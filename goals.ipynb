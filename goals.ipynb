{
 "cells": [
  {
   "cell_type": "code",
   "execution_count": 9,
   "metadata": {},
   "outputs": [
    {
     "name": "stderr",
     "output_type": "stream",
     "text": [
      "'pip' is not recognized as an internal or external command,\n",
      "operable program or batch file.\n"
     ]
    },
    {
     "ename": "ModuleNotFoundError",
     "evalue": "No module named 'networkx'",
     "output_type": "error",
     "traceback": [
      "\u001b[1;31m---------------------------------------------------------------------------\u001b[0m",
      "\u001b[1;31mModuleNotFoundError\u001b[0m                       Traceback (most recent call last)",
      "Cell \u001b[1;32mIn[9], line 4\u001b[0m\n\u001b[0;32m      1\u001b[0m get_ipython()\u001b[38;5;241m.\u001b[39msystem(\u001b[38;5;124m'\u001b[39m\u001b[38;5;124mpip install matplotlib networkx\u001b[39m\u001b[38;5;124m'\u001b[39m)\n\u001b[0;32m      3\u001b[0m \u001b[38;5;28;01mimport\u001b[39;00m \u001b[38;5;21;01mmatplotlib\u001b[39;00m\u001b[38;5;21;01m.\u001b[39;00m\u001b[38;5;21;01mpyplot\u001b[39;00m \u001b[38;5;28;01mas\u001b[39;00m \u001b[38;5;21;01mplt\u001b[39;00m\n\u001b[1;32m----> 4\u001b[0m \u001b[38;5;28;01mimport\u001b[39;00m \u001b[38;5;21;01mnetworkx\u001b[39;00m \u001b[38;5;28;01mas\u001b[39;00m \u001b[38;5;21;01mnx\u001b[39;00m\n\u001b[0;32m      6\u001b[0m \u001b[38;5;66;03m# Define categories and subgoals\u001b[39;00m\n\u001b[0;32m      7\u001b[0m vision_goals \u001b[38;5;241m=\u001b[39m {\n\u001b[0;32m      8\u001b[0m     \u001b[38;5;124m\"\u001b[39m\u001b[38;5;124mAchieve ₹100 Cr\u001b[39m\u001b[38;5;124m\"\u001b[39m: [\u001b[38;5;124m\"\u001b[39m\u001b[38;5;124mBuild Hedge Fund\u001b[39m\u001b[38;5;124m\"\u001b[39m, \u001b[38;5;124m\"\u001b[39m\u001b[38;5;124mStrategic Investments\u001b[39m\u001b[38;5;124m\"\u001b[39m, \u001b[38;5;124m\"\u001b[39m\u001b[38;5;124mFinancial Independence\u001b[39m\u001b[38;5;124m\"\u001b[39m],\n\u001b[0;32m      9\u001b[0m     \u001b[38;5;124m\"\u001b[39m\u001b[38;5;124mEntrepreneurship & Startups\u001b[39m\u001b[38;5;124m\"\u001b[39m: [\n\u001b[1;32m   (...)\u001b[0m\n\u001b[0;32m     29\u001b[0m     ]\n\u001b[0;32m     30\u001b[0m }\n",
      "\u001b[1;31mModuleNotFoundError\u001b[0m: No module named 'networkx'"
     ]
    }
   ],
   "source": [
    "!pip install matplotlib networkx\n",
    "\n",
    "import matplotlib.pyplot as plt\n",
    "import networkx as nx\n",
    "\n",
    "# Define categories and subgoals\n",
    "vision_goals = {\n",
    "    \"Achieve ₹100 Cr\": [\"Build Hedge Fund\", \"Strategic Investments\", \"Financial Independence\"],\n",
    "    \"Entrepreneurship & Startups\": [\n",
    "        \"Financial Management Platform\", \"AI & ML Startups\", \"Stock Analysis Web App\"\n",
    "    ],\n",
    "    \"Algorithmic Trading & Investments\": [\n",
    "        \"Nifty & Bank Nifty Scalping\", \"Swing Trading Strategies\", \"Backtesting & Optimization\"\n",
    "    ],\n",
    "    \"Web Development & AI Projects\": [\n",
    "        \"Student Resources Platform\", \"Data Science Projects\", \"Stock Analysis Website\"\n",
    "    ],\n",
    "    \"Personal Development\": [\n",
    "        \"Morning Routine\", \"Books & Learning\", \"Health & Fitness\", \"Consistency\"\n",
    "    ],\n",
    "    \"Social Impact & Farming\": [\n",
    "        \"Quail & Goat Farming\", \"Sustainable Agriculture\", \"Community Impact\"\n",
    "    ],\n",
    "    \"Career Growth & Networking\": [\n",
    "        \"Jobs at Top Firms\", \"Networking\", \"Skills Enhancement\"\n",
    "    ],\n",
    "    \"Motivation & Legacy\": [\n",
    "        \"Inspire Others\", \"Create Lasting Impact\", \"Build a Legacy\"\n",
    "    ]\n",
    "}\n",
    "\n",
    "# Initialize directed graph\n",
    "G = nx.DiGraph()\n",
    "\n",
    "# Add nodes and edges\n",
    "for main_goal, subgoals in vision_goals.items():\n",
    "    for subgoal in subgoals:\n",
    "        G.add_edge(main_goal, subgoal)\n",
    "\n",
    "# Define layout for visualization\n",
    "pos = nx.spring_layout(G, seed=42)\n",
    "\n",
    "# Draw the graph\n",
    "plt.figure(figsize=(15, 10))\n",
    "nx.draw(G, pos, with_labels=True, node_size=3000, node_color='#00A1E4', \n",
    "        font_size=10, font_weight='bold', edge_color='#FF5733', arrowsize=15, \n",
    "        connectionstyle=\"arc3,rad=0.1\")\n",
    "\n",
    "# Highlight central nodes\n",
    "central_nodes = [\"Achieve ₹100 Cr\", \"Entrepreneurship & Startups\", \n",
    "                 \"Algorithmic Trading & Investments\", \"Career Growth & Networking\"]\n",
    "nx.draw_networkx_nodes(G, pos, nodelist=central_nodes, node_color='#FFD700', node_size=4000)\n",
    "\n",
    "# Add title and show plot\n",
    "plt.title(\"Roger's Comprehensive Vision Board: Interconnected Goals\", fontsize=16, fontweight='bold')\n",
    "plt.show()\n"
   ]
  },
  {
   "cell_type": "code",
   "execution_count": null,
   "metadata": {},
   "outputs": [
    {
     "name": "stdout",
     "output_type": "stream",
     "text": [
      "Note: you may need to restart the kernel to use updated packages.\n"
     ]
    },
    {
     "name": "stderr",
     "output_type": "stream",
     "text": [
      "c:\\Users\\Roger\\AppData\\Local\\Programs\\Python\\Python312\\python.exe: No module named pip\n"
     ]
    }
   ],
   "source": [
    "pip install matplotlib networkx\n"
   ]
  }
 ],
 "metadata": {
  "kernelspec": {
   "display_name": "Python 3",
   "language": "python",
   "name": "python3"
  },
  "language_info": {
   "codemirror_mode": {
    "name": "ipython",
    "version": 3
   },
   "file_extension": ".py",
   "mimetype": "text/x-python",
   "name": "python",
   "nbconvert_exporter": "python",
   "pygments_lexer": "ipython3",
   "version": "3.12.6"
  }
 },
 "nbformat": 4,
 "nbformat_minor": 2
}
